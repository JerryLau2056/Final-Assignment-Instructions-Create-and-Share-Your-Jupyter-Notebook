{
 "cells": [
  {
   "cell_type": "markdown",
   "id": "8320558f-0354-4a82-9ce6-5ba570be6843",
   "metadata": {},
   "source": [
    "# Data Science Tools and Ecosystem"
   ]
  },
  {
   "cell_type": "markdown",
   "id": "9103895a-d295-4009-8213-19df82928059",
   "metadata": {},
   "source": [
    "# In this notebook, Data Science Tools and Ecosystem are summarized."
   ]
  },
  {
   "cell_type": "markdown",
   "id": "363feadc-c3d2-4083-a0a7-a90c1e8be155",
   "metadata": {},
   "source": [
    "# Objectives:\n",
    "* List of the popular languages used by Data Scientists\n",
    "* List of the commonly used libraries used by Data Scientists\n",
    "* examples of evaluating arithmetic expressions in Python"
   ]
  },
  {
   "cell_type": "markdown",
   "id": "7c9533ca-daf1-4a05-b612-72bb0466d0b9",
   "metadata": {},
   "source": [
    "# Some of the popular languages that Data Scientists use are:\n",
    "1. R\n",
    "2. Python\n",
    "3. SQL"
   ]
  },
  {
   "cell_type": "markdown",
   "id": "ca8be9de-768b-4acb-ac6a-6682005b27b2",
   "metadata": {},
   "source": [
    "# Some of the commonly used libraries used by Data Scientists include:\n",
    "1. Numpy\n",
    "2. Pandas\n",
    "3. Matplotlib"
   ]
  },
  {
   "cell_type": "markdown",
   "id": "d72b1887-3f17-4f13-9f26-431ad8a33f0a",
   "metadata": {},
   "source": [
    "Data Science Tools\n",
    "|-|\n",
    "|Rstudio|\n",
    "|Pytorch|\n",
    "|Tensorflow|"
   ]
  },
  {
   "cell_type": "markdown",
   "id": "7512d21b-1a56-459a-9a3c-9ed64ae33805",
   "metadata": {},
   "source": [
    "### Below are a few examples of evaluating arithmetic expressions in Python"
   ]
  },
  {
   "cell_type": "code",
   "execution_count": 4,
   "id": "78610ab4-4391-4c04-ba39-3ae515db26f6",
   "metadata": {},
   "outputs": [
    {
     "name": "stdout",
     "output_type": "stream",
     "text": [
      "17\n"
     ]
    }
   ],
   "source": [
    "print((3*4)+5)\n",
    "# This a simple arithmetic expression to mutiply then add integers"
   ]
  },
  {
   "cell_type": "code",
   "execution_count": 5,
   "id": "25ac63af-1b4d-4b45-a47e-6b3ccdbc3c94",
   "metadata": {},
   "outputs": [
    {
     "name": "stdout",
     "output_type": "stream",
     "text": [
      "The 200 mins is 3.3333333333333335 hours\n"
     ]
    }
   ],
   "source": [
    "print('The 200 mins is '+str(200/60)+' hours')\n",
    "# This will convert 200 minutes to hours by diving by 60"
   ]
  },
  {
   "cell_type": "markdown",
   "id": "0a4b1699-fe29-455b-b536-14d98e751f62",
   "metadata": {},
   "source": [
    "## Author\n",
    "Yuanheng(Jerry) Liu"
   ]
  },
  {
   "cell_type": "code",
   "execution_count": null,
   "id": "1a3ce9f0-a5ca-4d67-b134-7299c5ab29b6",
   "metadata": {},
   "outputs": [],
   "source": []
  },
  {
   "cell_type": "code",
   "execution_count": null,
   "id": "b8a3f3bb-66b9-4cf7-856e-4b7832c08621",
   "metadata": {},
   "outputs": [],
   "source": []
  }
 ],
 "metadata": {
  "kernelspec": {
   "display_name": "Python 3 (ipykernel)",
   "language": "python",
   "name": "python3"
  },
  "language_info": {
   "codemirror_mode": {
    "name": "ipython",
    "version": 3
   },
   "file_extension": ".py",
   "mimetype": "text/x-python",
   "name": "python",
   "nbconvert_exporter": "python",
   "pygments_lexer": "ipython3",
   "version": "3.12.7"
  }
 },
 "nbformat": 4,
 "nbformat_minor": 5
}
